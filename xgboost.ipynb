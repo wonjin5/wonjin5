{
  "nbformat": 4,
  "nbformat_minor": 0,
  "metadata": {
    "colab": {
      "name": "Untitled0.ipynb",
      "provenance": [],
      "authorship_tag": "ABX9TyPHr/PR5JEE18bpp9ftq9UU",
      "include_colab_link": true
    },
    "kernelspec": {
      "name": "python3",
      "display_name": "Python 3"
    },
    "language_info": {
      "name": "python"
    }
  },
  "cells": [
    {
      "cell_type": "markdown",
      "metadata": {
        "id": "view-in-github",
        "colab_type": "text"
      },
      "source": [
        "<a href=\"https://colab.research.google.com/github/wonjin5/wonjin5/blob/main/xgboost.ipynb\" target=\"_parent\"><img src=\"https://colab.research.google.com/assets/colab-badge.svg\" alt=\"Open In Colab\"/></a>"
      ]
    },
    {
      "cell_type": "code",
      "execution_count": null,
      "metadata": {
        "id": "O-6tATnToMHx"
      },
      "outputs": [],
      "source": [
        ""
      ]
    },
    {
      "cell_type": "code",
      "source": [
        "from google.colab import drive\n",
        "drive.mount('/content/drive')"
      ],
      "metadata": {
        "colab": {
          "base_uri": "https://localhost:8080/"
        },
        "id": "88y79I08oNl9",
        "outputId": "189bc060-1005-48ed-9a34-21de230e8d9c"
      },
      "execution_count": null,
      "outputs": [
        {
          "output_type": "stream",
          "name": "stdout",
          "text": [
            "Mounted at /content/drive\n"
          ]
        }
      ]
    },
    {
      "cell_type": "code",
      "source": [
        "import pandas as pd \n",
        "\n",
        "%cd \"/content/drive/MyDrive/Colab Notebooks/hand_gesture_data\"\n",
        "#csv 형식으로 된 데이터 파일을 읽어옵니다. \n",
        "train = pd.read_csv('./train.csv')\n",
        "\n",
        "#데이터의 최상단 5줄을 표시합니다. \n",
        "train.head()"
      ],
      "metadata": {
        "colab": {
          "base_uri": "https://localhost:8080/",
          "height": 317
        },
        "id": "Yebl74rYoR4q",
        "outputId": "5eab1b94-e185-4fc0-9ab6-d6f0a66ae636"
      },
      "execution_count": null,
      "outputs": [
        {
          "output_type": "stream",
          "name": "stdout",
          "text": [
            "/content/drive/MyDrive/Colab Notebooks/hand_gesture_data\n"
          ]
        },
        {
          "output_type": "execute_result",
          "data": {
            "text/html": [
              "\n",
              "  <div id=\"df-0b40708e-926f-4d47-bd2b-0a40f5a7c268\">\n",
              "    <div class=\"colab-df-container\">\n",
              "      <div>\n",
              "<style scoped>\n",
              "    .dataframe tbody tr th:only-of-type {\n",
              "        vertical-align: middle;\n",
              "    }\n",
              "\n",
              "    .dataframe tbody tr th {\n",
              "        vertical-align: top;\n",
              "    }\n",
              "\n",
              "    .dataframe thead th {\n",
              "        text-align: right;\n",
              "    }\n",
              "</style>\n",
              "<table border=\"1\" class=\"dataframe\">\n",
              "  <thead>\n",
              "    <tr style=\"text-align: right;\">\n",
              "      <th></th>\n",
              "      <th>id</th>\n",
              "      <th>sensor_1</th>\n",
              "      <th>sensor_2</th>\n",
              "      <th>sensor_3</th>\n",
              "      <th>sensor_4</th>\n",
              "      <th>sensor_5</th>\n",
              "      <th>sensor_6</th>\n",
              "      <th>sensor_7</th>\n",
              "      <th>sensor_8</th>\n",
              "      <th>sensor_9</th>\n",
              "      <th>...</th>\n",
              "      <th>sensor_24</th>\n",
              "      <th>sensor_25</th>\n",
              "      <th>sensor_26</th>\n",
              "      <th>sensor_27</th>\n",
              "      <th>sensor_28</th>\n",
              "      <th>sensor_29</th>\n",
              "      <th>sensor_30</th>\n",
              "      <th>sensor_31</th>\n",
              "      <th>sensor_32</th>\n",
              "      <th>target</th>\n",
              "    </tr>\n",
              "  </thead>\n",
              "  <tbody>\n",
              "    <tr>\n",
              "      <th>0</th>\n",
              "      <td>1</td>\n",
              "      <td>-6.149463</td>\n",
              "      <td>-0.929714</td>\n",
              "      <td>9.058368</td>\n",
              "      <td>-7.017854</td>\n",
              "      <td>-2.958471</td>\n",
              "      <td>0.179233</td>\n",
              "      <td>-0.956591</td>\n",
              "      <td>-0.972401</td>\n",
              "      <td>5.956213</td>\n",
              "      <td>...</td>\n",
              "      <td>-7.026436</td>\n",
              "      <td>-6.006282</td>\n",
              "      <td>-6.005836</td>\n",
              "      <td>7.043084</td>\n",
              "      <td>21.884650</td>\n",
              "      <td>-3.064152</td>\n",
              "      <td>-5.247552</td>\n",
              "      <td>-6.026107</td>\n",
              "      <td>-11.990822</td>\n",
              "      <td>1</td>\n",
              "    </tr>\n",
              "    <tr>\n",
              "      <th>1</th>\n",
              "      <td>2</td>\n",
              "      <td>-2.238836</td>\n",
              "      <td>-1.003511</td>\n",
              "      <td>5.098079</td>\n",
              "      <td>-10.880357</td>\n",
              "      <td>-0.804562</td>\n",
              "      <td>-2.992123</td>\n",
              "      <td>26.972724</td>\n",
              "      <td>-8.900861</td>\n",
              "      <td>-5.968298</td>\n",
              "      <td>...</td>\n",
              "      <td>-1.996714</td>\n",
              "      <td>-7.933806</td>\n",
              "      <td>-3.136773</td>\n",
              "      <td>8.774211</td>\n",
              "      <td>10.944759</td>\n",
              "      <td>9.858186</td>\n",
              "      <td>-0.969241</td>\n",
              "      <td>-3.935553</td>\n",
              "      <td>-15.892421</td>\n",
              "      <td>1</td>\n",
              "    </tr>\n",
              "    <tr>\n",
              "      <th>2</th>\n",
              "      <td>3</td>\n",
              "      <td>19.087934</td>\n",
              "      <td>-2.092514</td>\n",
              "      <td>0.946750</td>\n",
              "      <td>-21.831788</td>\n",
              "      <td>9.119235</td>\n",
              "      <td>17.853587</td>\n",
              "      <td>-21.069954</td>\n",
              "      <td>-15.933212</td>\n",
              "      <td>-9.016039</td>\n",
              "      <td>...</td>\n",
              "      <td>-6.889685</td>\n",
              "      <td>54.052330</td>\n",
              "      <td>-6.109238</td>\n",
              "      <td>12.154595</td>\n",
              "      <td>6.095989</td>\n",
              "      <td>-40.195088</td>\n",
              "      <td>-3.958124</td>\n",
              "      <td>-8.079537</td>\n",
              "      <td>-5.160090</td>\n",
              "      <td>0</td>\n",
              "    </tr>\n",
              "    <tr>\n",
              "      <th>3</th>\n",
              "      <td>4</td>\n",
              "      <td>-2.211629</td>\n",
              "      <td>-1.930904</td>\n",
              "      <td>21.888406</td>\n",
              "      <td>-3.067560</td>\n",
              "      <td>-0.240634</td>\n",
              "      <td>2.985056</td>\n",
              "      <td>-29.073369</td>\n",
              "      <td>0.200774</td>\n",
              "      <td>-1.043742</td>\n",
              "      <td>...</td>\n",
              "      <td>-2.126170</td>\n",
              "      <td>-1.035526</td>\n",
              "      <td>2.178769</td>\n",
              "      <td>10.032723</td>\n",
              "      <td>-1.010897</td>\n",
              "      <td>-3.912848</td>\n",
              "      <td>-2.980338</td>\n",
              "      <td>-12.983597</td>\n",
              "      <td>-3.001077</td>\n",
              "      <td>1</td>\n",
              "    </tr>\n",
              "    <tr>\n",
              "      <th>4</th>\n",
              "      <td>5</td>\n",
              "      <td>3.953852</td>\n",
              "      <td>2.964892</td>\n",
              "      <td>-36.044802</td>\n",
              "      <td>0.899838</td>\n",
              "      <td>26.930210</td>\n",
              "      <td>11.004409</td>\n",
              "      <td>-21.962423</td>\n",
              "      <td>-11.950189</td>\n",
              "      <td>-20.933785</td>\n",
              "      <td>...</td>\n",
              "      <td>-2.051761</td>\n",
              "      <td>10.917567</td>\n",
              "      <td>1.905335</td>\n",
              "      <td>-13.004707</td>\n",
              "      <td>17.169552</td>\n",
              "      <td>2.105194</td>\n",
              "      <td>3.967986</td>\n",
              "      <td>11.861657</td>\n",
              "      <td>-27.088846</td>\n",
              "      <td>2</td>\n",
              "    </tr>\n",
              "  </tbody>\n",
              "</table>\n",
              "<p>5 rows × 34 columns</p>\n",
              "</div>\n",
              "      <button class=\"colab-df-convert\" onclick=\"convertToInteractive('df-0b40708e-926f-4d47-bd2b-0a40f5a7c268')\"\n",
              "              title=\"Convert this dataframe to an interactive table.\"\n",
              "              style=\"display:none;\">\n",
              "        \n",
              "  <svg xmlns=\"http://www.w3.org/2000/svg\" height=\"24px\"viewBox=\"0 0 24 24\"\n",
              "       width=\"24px\">\n",
              "    <path d=\"M0 0h24v24H0V0z\" fill=\"none\"/>\n",
              "    <path d=\"M18.56 5.44l.94 2.06.94-2.06 2.06-.94-2.06-.94-.94-2.06-.94 2.06-2.06.94zm-11 1L8.5 8.5l.94-2.06 2.06-.94-2.06-.94L8.5 2.5l-.94 2.06-2.06.94zm10 10l.94 2.06.94-2.06 2.06-.94-2.06-.94-.94-2.06-.94 2.06-2.06.94z\"/><path d=\"M17.41 7.96l-1.37-1.37c-.4-.4-.92-.59-1.43-.59-.52 0-1.04.2-1.43.59L10.3 9.45l-7.72 7.72c-.78.78-.78 2.05 0 2.83L4 21.41c.39.39.9.59 1.41.59.51 0 1.02-.2 1.41-.59l7.78-7.78 2.81-2.81c.8-.78.8-2.07 0-2.86zM5.41 20L4 18.59l7.72-7.72 1.47 1.35L5.41 20z\"/>\n",
              "  </svg>\n",
              "      </button>\n",
              "      \n",
              "  <style>\n",
              "    .colab-df-container {\n",
              "      display:flex;\n",
              "      flex-wrap:wrap;\n",
              "      gap: 12px;\n",
              "    }\n",
              "\n",
              "    .colab-df-convert {\n",
              "      background-color: #E8F0FE;\n",
              "      border: none;\n",
              "      border-radius: 50%;\n",
              "      cursor: pointer;\n",
              "      display: none;\n",
              "      fill: #1967D2;\n",
              "      height: 32px;\n",
              "      padding: 0 0 0 0;\n",
              "      width: 32px;\n",
              "    }\n",
              "\n",
              "    .colab-df-convert:hover {\n",
              "      background-color: #E2EBFA;\n",
              "      box-shadow: 0px 1px 2px rgba(60, 64, 67, 0.3), 0px 1px 3px 1px rgba(60, 64, 67, 0.15);\n",
              "      fill: #174EA6;\n",
              "    }\n",
              "\n",
              "    [theme=dark] .colab-df-convert {\n",
              "      background-color: #3B4455;\n",
              "      fill: #D2E3FC;\n",
              "    }\n",
              "\n",
              "    [theme=dark] .colab-df-convert:hover {\n",
              "      background-color: #434B5C;\n",
              "      box-shadow: 0px 1px 3px 1px rgba(0, 0, 0, 0.15);\n",
              "      filter: drop-shadow(0px 1px 2px rgba(0, 0, 0, 0.3));\n",
              "      fill: #FFFFFF;\n",
              "    }\n",
              "  </style>\n",
              "\n",
              "      <script>\n",
              "        const buttonEl =\n",
              "          document.querySelector('#df-0b40708e-926f-4d47-bd2b-0a40f5a7c268 button.colab-df-convert');\n",
              "        buttonEl.style.display =\n",
              "          google.colab.kernel.accessAllowed ? 'block' : 'none';\n",
              "\n",
              "        async function convertToInteractive(key) {\n",
              "          const element = document.querySelector('#df-0b40708e-926f-4d47-bd2b-0a40f5a7c268');\n",
              "          const dataTable =\n",
              "            await google.colab.kernel.invokeFunction('convertToInteractive',\n",
              "                                                     [key], {});\n",
              "          if (!dataTable) return;\n",
              "\n",
              "          const docLinkHtml = 'Like what you see? Visit the ' +\n",
              "            '<a target=\"_blank\" href=https://colab.research.google.com/notebooks/data_table.ipynb>data table notebook</a>'\n",
              "            + ' to learn more about interactive tables.';\n",
              "          element.innerHTML = '';\n",
              "          dataTable['output_type'] = 'display_data';\n",
              "          await google.colab.output.renderOutput(dataTable, element);\n",
              "          const docLink = document.createElement('div');\n",
              "          docLink.innerHTML = docLinkHtml;\n",
              "          element.appendChild(docLink);\n",
              "        }\n",
              "      </script>\n",
              "    </div>\n",
              "  </div>\n",
              "  "
            ],
            "text/plain": [
              "   id   sensor_1  sensor_2   sensor_3   sensor_4   sensor_5   sensor_6  \\\n",
              "0   1  -6.149463 -0.929714   9.058368  -7.017854  -2.958471   0.179233   \n",
              "1   2  -2.238836 -1.003511   5.098079 -10.880357  -0.804562  -2.992123   \n",
              "2   3  19.087934 -2.092514   0.946750 -21.831788   9.119235  17.853587   \n",
              "3   4  -2.211629 -1.930904  21.888406  -3.067560  -0.240634   2.985056   \n",
              "4   5   3.953852  2.964892 -36.044802   0.899838  26.930210  11.004409   \n",
              "\n",
              "    sensor_7   sensor_8   sensor_9  ...  sensor_24  sensor_25  sensor_26  \\\n",
              "0  -0.956591  -0.972401   5.956213  ...  -7.026436  -6.006282  -6.005836   \n",
              "1  26.972724  -8.900861  -5.968298  ...  -1.996714  -7.933806  -3.136773   \n",
              "2 -21.069954 -15.933212  -9.016039  ...  -6.889685  54.052330  -6.109238   \n",
              "3 -29.073369   0.200774  -1.043742  ...  -2.126170  -1.035526   2.178769   \n",
              "4 -21.962423 -11.950189 -20.933785  ...  -2.051761  10.917567   1.905335   \n",
              "\n",
              "   sensor_27  sensor_28  sensor_29  sensor_30  sensor_31  sensor_32  target  \n",
              "0   7.043084  21.884650  -3.064152  -5.247552  -6.026107 -11.990822       1  \n",
              "1   8.774211  10.944759   9.858186  -0.969241  -3.935553 -15.892421       1  \n",
              "2  12.154595   6.095989 -40.195088  -3.958124  -8.079537  -5.160090       0  \n",
              "3  10.032723  -1.010897  -3.912848  -2.980338 -12.983597  -3.001077       1  \n",
              "4 -13.004707  17.169552   2.105194   3.967986  11.861657 -27.088846       2  \n",
              "\n",
              "[5 rows x 34 columns]"
            ]
          },
          "metadata": {},
          "execution_count": 25
        }
      ]
    },
    {
      "cell_type": "code",
      "source": [
        "import pandas as pd\n",
        "from xgboost import XGBClassifier\n",
        "from sklearn.model_selection import GridSearchCV\n",
        "from sklearn.model_selection import train_test_split\n",
        "\n",
        "from sklearn.metrics import confusion_matrix, precision_recall_curve\n",
        "from sklearn.metrics import recall_score, precision_score, f1_score, auc, roc_curve, roc_auc_score\n",
        "from sklearn.metrics import average_precision_score\n",
        "from sklearn.model_selection import cross_val_predict\n",
        "from sklearn.model_selection import cross_val_score\n",
        "from sklearn.preprocessing import MinMaxScaler\n",
        "\n",
        "from imblearn.over_sampling import SMOTE, ADASYN, RandomOverSampler\n",
        "\n",
        "import warnings\n",
        "warnings.filterwarnings(action='ignore') # 경고 메세지 숨김"
      ],
      "metadata": {
        "id": "WNOiB99ToZoB"
      },
      "execution_count": null,
      "outputs": []
    },
    {
      "cell_type": "code",
      "source": [
        "train_X = train.drop(['id','target'],axis=1)\n",
        "train_y = train.target"
      ],
      "metadata": {
        "id": "nEON87lFodvY"
      },
      "execution_count": null,
      "outputs": []
    },
    {
      "cell_type": "code",
      "source": [
        "scaler = MinMaxScaler()\n",
        "X_train = scaler.fit_transform(X_train)\n",
        "print(X_train)"
      ],
      "metadata": {
        "colab": {
          "base_uri": "https://localhost:8080/"
        },
        "id": "XOSxKvwjoguM",
        "outputId": "217415b3-56c2-4a77-dc6f-ad2f65e5a0ac"
      },
      "execution_count": null,
      "outputs": [
        {
          "output_type": "stream",
          "name": "stdout",
          "text": [
            "[[0.00000000e+00 5.41473057e-01 6.06731368e-01 ... 6.25631542e-01\n",
            "  4.65740167e-01 4.88932867e-01]\n",
            " [4.28449015e-04 5.65373267e-01 6.06020786e-01 ... 6.64559757e-01\n",
            "  4.74201513e-01 4.71883089e-01]\n",
            " [8.56898029e-04 6.95714087e-01 5.95535033e-01 ... 6.37364006e-01\n",
            "  4.57429084e-01 5.18782797e-01]\n",
            " ...\n",
            " [9.99143102e-01 5.24040550e-01 6.73318365e-01 ... 5.72053749e-01\n",
            "  4.61653671e-01 5.37267769e-01]\n",
            " [9.99571551e-01 5.54683116e-01 6.44680004e-01 ... 6.37081540e-01\n",
            "  5.50505259e-01 4.88484491e-01]\n",
            " [1.00000000e+00 5.67821647e-01 5.48055761e-01 ... 6.83977633e-01\n",
            "  4.01176251e-01 4.84259369e-01]]\n"
          ]
        }
      ]
    },
    {
      "cell_type": "code",
      "source": [
        "\n",
        "\n",
        "\n",
        "\n",
        "clf = XGBClassifier(n_estimators = 1000,\n",
        "                            max_depth =50,\n",
        "                            gamma = 0,\n",
        "                            eta =0.01,\n",
        "                            random_state=42,\n",
        "                            eval_metric = 'mlogloss',\n",
        "                            objective = 'multi:softmax',\n",
        "                            use_label_encoder=False)\n",
        "clf.fit(train_X, train_y)#, early_stopping_rounds=200)\n",
        "\n"
      ],
      "metadata": {
        "colab": {
          "base_uri": "https://localhost:8080/"
        },
        "id": "PmxbtGjMoj3b",
        "outputId": "e5df66d0-9c51-47bf-b142-5547ebbb9438"
      },
      "execution_count": null,
      "outputs": [
        {
          "output_type": "execute_result",
          "data": {
            "text/plain": [
              "XGBClassifier(eta=0.01, eval_metric='mlogloss', max_depth=50, n_estimators=1000,\n",
              "              objective='multi:softprob', random_state=42,\n",
              "              use_label_encoder=False)"
            ]
          },
          "metadata": {},
          "execution_count": 32
        }
      ]
    },
    {
      "cell_type": "code",
      "source": [
        "test = pd.read_csv('./test.csv')\n",
        "test_X = test.drop(['id'],axis=1)\n",
        "pred = clf.predict(test_X)\n",
        "submission = pd.read_csv('./sample_submission.csv')\n",
        "submission['target'] = pred\n",
        "\n",
        "# 데이터가 잘 들어갔는지 확인합니다.\n",
        "submission.to_csv('submit.csv',index=False)"
      ],
      "metadata": {
        "id": "j6EiYj8KvlAJ"
      },
      "execution_count": null,
      "outputs": []
    }
  ]
}